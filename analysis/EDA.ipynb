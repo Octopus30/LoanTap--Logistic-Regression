{
 "cells": [
  {
   "cell_type": "code",
   "execution_count": 53,
   "metadata": {},
   "outputs": [],
   "source": [
    "import pandas as pd\n",
    "import numpy as numpy\n",
    "\n",
    "from analyze_src.basic_data_inspection import DataInspection, DatatypesInspectionStrategy, SummaryInspectionStrategy\n",
    "pd.set_option('display.max_columns',None)\n",
    "pd.set_option('display.max_rows',500)"
   ]
  },
  {
   "cell_type": "code",
   "execution_count": 54,
   "metadata": {},
   "outputs": [],
   "source": [
    "data_path = '../extracted_data/logistic_regression.csv'\n",
    "df = pd.read_csv(data_path)"
   ]
  },
  {
   "cell_type": "markdown",
   "metadata": {},
   "source": [
    "# Checking the basic code"
   ]
  },
  {
   "cell_type": "code",
   "execution_count": 55,
   "metadata": {},
   "outputs": [],
   "source": [
    "# step1 basic Data inspection "
   ]
  },
  {
   "cell_type": "code",
   "execution_count": 56,
   "metadata": {},
   "outputs": [
    {
     "name": "stdout",
     "output_type": "stream",
     "text": [
      "Datatypes of the Nullcounts in the dataframe: \n",
      "<class 'pandas.core.frame.DataFrame'>\n",
      "RangeIndex: 396030 entries, 0 to 396029\n",
      "Data columns (total 27 columns):\n",
      " #   Column                Non-Null Count   Dtype  \n",
      "---  ------                --------------   -----  \n",
      " 0   loan_amnt             396030 non-null  float64\n",
      " 1   term                  396030 non-null  object \n",
      " 2   int_rate              396030 non-null  float64\n",
      " 3   installment           396030 non-null  float64\n",
      " 4   grade                 396030 non-null  object \n",
      " 5   sub_grade             396030 non-null  object \n",
      " 6   emp_title             373103 non-null  object \n",
      " 7   emp_length            377729 non-null  object \n",
      " 8   home_ownership        396030 non-null  object \n",
      " 9   annual_inc            396030 non-null  float64\n",
      " 10  verification_status   396030 non-null  object \n",
      " 11  issue_d               396030 non-null  object \n",
      " 12  loan_status           396030 non-null  object \n",
      " 13  purpose               396030 non-null  object \n",
      " 14  title                 394274 non-null  object \n",
      " 15  dti                   396030 non-null  float64\n",
      " 16  earliest_cr_line      396030 non-null  object \n",
      " 17  open_acc              396030 non-null  float64\n",
      " 18  pub_rec               396030 non-null  float64\n",
      " 19  revol_bal             396030 non-null  float64\n",
      " 20  revol_util            395754 non-null  float64\n",
      " 21  total_acc             396030 non-null  float64\n",
      " 22  initial_list_status   396030 non-null  object \n",
      " 23  application_type      396030 non-null  object \n",
      " 24  mort_acc              358235 non-null  float64\n",
      " 25  pub_rec_bankruptcies  395495 non-null  float64\n",
      " 26  address               396030 non-null  object \n",
      "dtypes: float64(12), object(15)\n",
      "memory usage: 81.6+ MB\n",
      "None\n"
     ]
    }
   ],
   "source": [
    "# initialize the data inspector with the strategy of datatype inspection\n",
    "inspector = DataInspection(DatatypesInspectionStrategy())\n",
    "inspector.execute_inspection(df)"
   ]
  },
  {
   "cell_type": "code",
   "execution_count": 49,
   "metadata": {},
   "outputs": [
    {
     "name": "stdout",
     "output_type": "stream",
     "text": [
      "Summary statistics of Numerical Columns:  \n",
      "           loan_amnt       int_rate    installment    annual_inc  \\\n",
      "count  396030.000000  396030.000000  396030.000000  3.960300e+05   \n",
      "mean    14113.888089      13.639400     431.849698  7.420318e+04   \n",
      "std      8357.441341       4.472157     250.727790  6.163762e+04   \n",
      "min       500.000000       5.320000      16.080000  0.000000e+00   \n",
      "25%      8000.000000      10.490000     250.330000  4.500000e+04   \n",
      "50%     12000.000000      13.330000     375.430000  6.400000e+04   \n",
      "75%     20000.000000      16.490000     567.300000  9.000000e+04   \n",
      "max     40000.000000      30.990000    1533.810000  8.706582e+06   \n",
      "\n",
      "                 dti       open_acc        pub_rec     revol_bal  \\\n",
      "count  396030.000000  396030.000000  396030.000000  3.960300e+05   \n",
      "mean       17.379514      11.311153       0.178191  1.584454e+04   \n",
      "std        18.019092       5.137649       0.530671  2.059184e+04   \n",
      "min         0.000000       0.000000       0.000000  0.000000e+00   \n",
      "25%        11.280000       8.000000       0.000000  6.025000e+03   \n",
      "50%        16.910000      10.000000       0.000000  1.118100e+04   \n",
      "75%        22.980000      14.000000       0.000000  1.962000e+04   \n",
      "max      9999.000000      90.000000      86.000000  1.743266e+06   \n",
      "\n",
      "          revol_util      total_acc       mort_acc  pub_rec_bankruptcies  \n",
      "count  395754.000000  396030.000000  358235.000000         395495.000000  \n",
      "mean       53.791749      25.414744       1.813991              0.121648  \n",
      "std        24.452193      11.886991       2.147930              0.356174  \n",
      "min         0.000000       2.000000       0.000000              0.000000  \n",
      "25%        35.800000      17.000000       0.000000              0.000000  \n",
      "50%        54.800000      24.000000       1.000000              0.000000  \n",
      "75%        72.900000      32.000000       3.000000              0.000000  \n",
      "max       892.300000     151.000000      34.000000              8.000000  \n",
      "Summary statistics of Categorical Columns: \n",
      "              term   grade sub_grade emp_title emp_length home_ownership  \\\n",
      "count       396030  396030    396030    373103     377729         396030   \n",
      "unique           2       7        35    173105         11              6   \n",
      "top      36 months       B        B3   Teacher  10+ years       MORTGAGE   \n",
      "freq        302005  116018     26655      4389     126041         198348   \n",
      "\n",
      "       verification_status   issue_d loan_status             purpose  \\\n",
      "count               396030    396030      396030              396030   \n",
      "unique                   3       115           2                  14   \n",
      "top               Verified  Oct-2014  Fully Paid  debt_consolidation   \n",
      "freq                139563     14846      318357              234507   \n",
      "\n",
      "                     title earliest_cr_line initial_list_status  \\\n",
      "count               394274           396030              396030   \n",
      "unique               48816              684                   2   \n",
      "top     Debt consolidation         Oct-2000                   f   \n",
      "freq                152472             3017              238066   \n",
      "\n",
      "       application_type                    address  \n",
      "count            396030                     396030  \n",
      "unique                3                     393700  \n",
      "top          INDIVIDUAL  USS Smith\\r\\nFPO AP 70466  \n",
      "freq             395319                          8  \n"
     ]
    }
   ],
   "source": [
    "#changing my strategy to summary inspection\n",
    "inspector.set_strategy(SummaryInspectionStrategy())\n",
    "inspector.execute_inspection(df)"
   ]
  },
  {
   "cell_type": "markdown",
   "metadata": {},
   "source": [
    "## Insights"
   ]
  },
  {
   "cell_type": "markdown",
   "metadata": {},
   "source": [
    "1. Know your data\n",
    "    \n",
    "     - data contains 396030 datapoints with 26 columns"
   ]
  },
  {
   "cell_type": "markdown",
   "metadata": {},
   "source": [
    "2. Summary statistics\n",
    "    - There are 2 categorical values\n",
    "    - Target variable is **Loan status** which have 318357 fully paid customers \n",
    "\n",
    "    **Loan amount**\n",
    "\n",
    "    - Amount of loan applied by the borrower\n",
    "    - Average of 14113.888089 loan is taken from LoanTap\n",
    "    - Maximum of 40000, minimum of 500 is asked as loan by the borrower\n",
    "\n",
    "    **term**\n",
    "\n",
    "    - Term has 2 categories (36, 60) months\n",
    "    - Leading 36 months with 302005 borrowers.\n",
    "    \n",
    "    **intrest rate**\n",
    "    - Most of the loans are with interest rate of **13.639**\n",
    "    - interest rates are in the range of 5.32 - 30.99 \n"
   ]
  },
  {
   "cell_type": "markdown",
   "metadata": {},
   "source": []
  },
  {
   "cell_type": "markdown",
   "metadata": {},
   "source": []
  }
 ],
 "metadata": {
  "kernelspec": {
   "display_name": "venv",
   "language": "python",
   "name": "python3"
  },
  "language_info": {
   "codemirror_mode": {
    "name": "ipython",
    "version": 3
   },
   "file_extension": ".py",
   "mimetype": "text/x-python",
   "name": "python",
   "nbconvert_exporter": "python",
   "pygments_lexer": "ipython3",
   "version": "3.13.1"
  }
 },
 "nbformat": 4,
 "nbformat_minor": 2
}
